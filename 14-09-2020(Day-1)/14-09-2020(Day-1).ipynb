{
 "cells": [
  {
   "cell_type": "markdown",
   "metadata": {},
   "source": [
    "Please make sure to change your gotomeeting names in the given format\n",
    "\n",
    "\n",
    "*             **Rollnumber-Name-Collegename**"
   ]
  },
  {
   "cell_type": "markdown",
   "metadata": {},
   "source": [
    "# Python :\n",
    "\n"
   ]
  },
  {
   "cell_type": "markdown",
   "metadata": {},
   "source": [
    "### why Jupyter Notebook?\n",
    "\n",
    "* All advanced libraries and packages are by default instaled inJupyternotebook,\n",
    "* Jupyter supports all adavnced programming and libraries using python.\n",
    "* Text and code can be saved at one place.\n",
    "* It supports machine learning,Artificial Intelligence and Data science programmjg."
   ]
  },
  {
   "cell_type": "markdown",
   "metadata": {},
   "source": [
    "### Markdown:"
   ]
  },
  {
   "cell_type": "markdown",
   "metadata": {},
   "source": [
    "* Esc + m ---- converting cell to markdown\n",
    "* Esc + y ---- converting cell to code\n",
    "* #       ---- changes the size of the text.\n",
    "* **Bold** ---  two stars at the start and at the end for bold\n",
    "* *italic* ---- single star at the start and at the end for italic\n",
    "* ***bold and Italic*** ---- three stars at start and at the end for both italic and bold.\n",
    "* single star plus space ----  bullet points.\n",
    "* shift + enter --- execution of particular cell\n",
    "* alt + enter ---  cell will be executed and new cell be created."
   ]
  },
  {
   "cell_type": "code",
   "execution_count": null,
   "metadata": {},
   "outputs": [],
   "source": []
  },
  {
   "cell_type": "code",
   "execution_count": null,
   "metadata": {},
   "outputs": [],
   "source": []
  },
  {
   "cell_type": "code",
   "execution_count": null,
   "metadata": {},
   "outputs": [],
   "source": []
  },
  {
   "cell_type": "code",
   "execution_count": null,
   "metadata": {},
   "outputs": [],
   "source": []
  },
  {
   "cell_type": "code",
   "execution_count": null,
   "metadata": {},
   "outputs": [],
   "source": []
  }
 ],
 "metadata": {
  "kernelspec": {
   "display_name": "Python 3",
   "language": "python",
   "name": "python3"
  },
  "language_info": {
   "codemirror_mode": {
    "name": "ipython",
    "version": 3
   },
   "file_extension": ".py",
   "mimetype": "text/x-python",
   "name": "python",
   "nbconvert_exporter": "python",
   "pygments_lexer": "ipython3",
   "version": "3.7.3"
  }
 },
 "nbformat": 4,
 "nbformat_minor": 2
}
